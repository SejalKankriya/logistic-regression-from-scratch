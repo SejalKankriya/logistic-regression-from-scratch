{
 "cells": [
  {
   "cell_type": "markdown",
   "id": "7abd9bc2",
   "metadata": {},
   "source": [
    "## Logistic Regression"
   ]
  },
  {
   "cell_type": "code",
   "execution_count": 20,
   "id": "70bbf4b6",
   "metadata": {},
   "outputs": [],
   "source": [
    "# Importing required libraries\n",
    "# (not allowed: scikit-learn or any other libraries with inbuilt functions that help to implement ML methods).\n",
    "\n",
    "import pandas as pd\n",
    "import numpy as np\n",
    "import matplotlib.pyplot as plt\n",
    "import pickle"
   ]
  },
  {
   "cell_type": "code",
   "execution_count": 2,
   "id": "73569c02",
   "metadata": {
    "scrolled": true
   },
   "outputs": [
    {
     "data": {
      "text/html": [
       "<div>\n",
       "<style scoped>\n",
       "    .dataframe tbody tr th:only-of-type {\n",
       "        vertical-align: middle;\n",
       "    }\n",
       "\n",
       "    .dataframe tbody tr th {\n",
       "        vertical-align: top;\n",
       "    }\n",
       "\n",
       "    .dataframe thead th {\n",
       "        text-align: right;\n",
       "    }\n",
       "</style>\n",
       "<table border=\"1\" class=\"dataframe\">\n",
       "  <thead>\n",
       "    <tr style=\"text-align: right;\">\n",
       "      <th></th>\n",
       "      <th>culmen_length_mm</th>\n",
       "      <th>culmen_depth_mm</th>\n",
       "      <th>flipper_length_mm</th>\n",
       "      <th>body_mass_g</th>\n",
       "    </tr>\n",
       "  </thead>\n",
       "  <tbody>\n",
       "    <tr>\n",
       "      <th>count</th>\n",
       "      <td>342.000000</td>\n",
       "      <td>342.000000</td>\n",
       "      <td>342.000000</td>\n",
       "      <td>342.000000</td>\n",
       "    </tr>\n",
       "    <tr>\n",
       "      <th>mean</th>\n",
       "      <td>43.921930</td>\n",
       "      <td>17.151170</td>\n",
       "      <td>200.915205</td>\n",
       "      <td>4201.754386</td>\n",
       "    </tr>\n",
       "    <tr>\n",
       "      <th>std</th>\n",
       "      <td>5.459584</td>\n",
       "      <td>1.974793</td>\n",
       "      <td>14.061714</td>\n",
       "      <td>801.954536</td>\n",
       "    </tr>\n",
       "    <tr>\n",
       "      <th>min</th>\n",
       "      <td>32.100000</td>\n",
       "      <td>13.100000</td>\n",
       "      <td>172.000000</td>\n",
       "      <td>2700.000000</td>\n",
       "    </tr>\n",
       "    <tr>\n",
       "      <th>25%</th>\n",
       "      <td>39.225000</td>\n",
       "      <td>15.600000</td>\n",
       "      <td>190.000000</td>\n",
       "      <td>3550.000000</td>\n",
       "    </tr>\n",
       "    <tr>\n",
       "      <th>50%</th>\n",
       "      <td>44.450000</td>\n",
       "      <td>17.300000</td>\n",
       "      <td>197.000000</td>\n",
       "      <td>4050.000000</td>\n",
       "    </tr>\n",
       "    <tr>\n",
       "      <th>75%</th>\n",
       "      <td>48.500000</td>\n",
       "      <td>18.700000</td>\n",
       "      <td>213.000000</td>\n",
       "      <td>4750.000000</td>\n",
       "    </tr>\n",
       "    <tr>\n",
       "      <th>max</th>\n",
       "      <td>59.600000</td>\n",
       "      <td>21.500000</td>\n",
       "      <td>231.000000</td>\n",
       "      <td>6300.000000</td>\n",
       "    </tr>\n",
       "  </tbody>\n",
       "</table>\n",
       "</div>"
      ],
      "text/plain": [
       "       culmen_length_mm  culmen_depth_mm  flipper_length_mm  body_mass_g\n",
       "count        342.000000       342.000000         342.000000   342.000000\n",
       "mean          43.921930        17.151170         200.915205  4201.754386\n",
       "std            5.459584         1.974793          14.061714   801.954536\n",
       "min           32.100000        13.100000         172.000000  2700.000000\n",
       "25%           39.225000        15.600000         190.000000  3550.000000\n",
       "50%           44.450000        17.300000         197.000000  4050.000000\n",
       "75%           48.500000        18.700000         213.000000  4750.000000\n",
       "max           59.600000        21.500000         231.000000  6300.000000"
      ]
     },
     "execution_count": 2,
     "metadata": {},
     "output_type": "execute_result"
    }
   ],
   "source": [
    "# Read the dataset using read_csv\n",
    "df = pd.read_csv('penguins.csv')\n",
    "df.describe()"
   ]
  },
  {
   "cell_type": "code",
   "execution_count": 3,
   "id": "18c3f804",
   "metadata": {},
   "outputs": [],
   "source": [
    "# Removing rows with NA values\n",
    "df = df.dropna()"
   ]
  },
  {
   "cell_type": "code",
   "execution_count": 4,
   "id": "afd859d0",
   "metadata": {},
   "outputs": [
    {
     "name": "stdout",
     "output_type": "stream",
     "text": [
      "<class 'pandas.core.frame.DataFrame'>\n",
      "Int64Index: 333 entries, 0 to 343\n",
      "Data columns (total 7 columns):\n",
      " #   Column             Non-Null Count  Dtype  \n",
      "---  ------             --------------  -----  \n",
      " 0   species            333 non-null    int64  \n",
      " 1   island             333 non-null    int64  \n",
      " 2   culmen_length_mm   333 non-null    float64\n",
      " 3   culmen_depth_mm    333 non-null    float64\n",
      " 4   flipper_length_mm  333 non-null    float64\n",
      " 5   body_mass_g        333 non-null    float64\n",
      " 6   sex                333 non-null    int64  \n",
      "dtypes: float64(4), int64(3)\n",
      "memory usage: 20.8 KB\n"
     ]
    }
   ],
   "source": [
    "# Converting features with string data type to categorical\n",
    "df['species'].replace(['Adelie', 'Chinstrap', 'Gentoo'],[0, 1, 2], inplace=True)\n",
    "df['island'].replace(['Torgersen', 'Biscoe', 'Dream'],[0, 1, 2], inplace=True)\n",
    "df['sex'].replace(['MALE', 'FEMALE', '.'],[0, 1, -1], inplace=True)\n",
    "df = df[df['sex'] != -1]\n",
    "\n",
    "# Normalize non-categorical features\n",
    "non_categorical_cols = ['culmen_length_mm', 'culmen_depth_mm', 'flipper_length_mm', 'body_mass_g']\n",
    "for col in non_categorical_cols:\n",
    "    col_min = df[col].min()\n",
    "    col_max = df[col].max()\n",
    "    df[col] = (df[col] - col_min) / (col_max - col_min)\n",
    "\n",
    "# Checking the converted datatype\n",
    "df.info()"
   ]
  },
  {
   "cell_type": "code",
   "execution_count": 5,
   "id": "da0b0f7c",
   "metadata": {},
   "outputs": [],
   "source": [
    "# Choosing column sex as Y target variable\n",
    "X = df.drop(['sex'], axis=1)\n",
    "y = df['sex']"
   ]
  },
  {
   "cell_type": "code",
   "execution_count": 6,
   "id": "545e4c42",
   "metadata": {
    "scrolled": true
   },
   "outputs": [
    {
     "name": "stdout",
     "output_type": "stream",
     "text": [
      "X_train: (266, 6)\n",
      "y_train: (266,)\n",
      "X_test: (67, 6)\n",
      "y_test: (67,)\n"
     ]
    }
   ],
   "source": [
    "# Dividing the dataset into 80% training and 20% testing.\n",
    "combined_data_array = np.column_stack((X, y))\n",
    "cal_idx = int(0.8 * len(combined_data_array))\n",
    "training_data = combined_data_array[:cal_idx]\n",
    "testing_data = combined_data_array[cal_idx:]\n",
    "\n",
    "X_train, y_train = training_data[:, :-1], training_data[:, -1]\n",
    "X_test, y_test = testing_data[:, :-1], testing_data[:, -1]\n",
    "\n",
    "# Printing the shape\n",
    "print('X_train:', X_train.shape)\n",
    "print('y_train:', y_train.shape)\n",
    "print('X_test:', X_test.shape)\n",
    "print('y_test:', y_test.shape)"
   ]
  },
  {
   "cell_type": "code",
   "execution_count": 7,
   "id": "b6f419c0",
   "metadata": {},
   "outputs": [],
   "source": [
    "# Defining Logistic Regression\n",
    "class LogitRegression():\n",
    "    def __init__(self, learning_rate, iterations):\n",
    "        self.learning_rate = learning_rate\n",
    "        self.iterations = iterations\n",
    "        \n",
    "    def sigmoid(self, z):\n",
    "        return 1 / (1 + np.exp(-z))\n",
    "    \n",
    "    def cost(self, X, y, wt):\n",
    "        z = np.dot(X, wt)\n",
    "        h = self.sigmoid(z)\n",
    "        loss = np.mean(-y * np.log(h) - (1- y) * np.log(1-h))\n",
    "#         print(f\"Loss after iteration - {loss}\")\n",
    "        return loss\n",
    "    \n",
    "    def gradient_descent(self, X, y, wt):\n",
    "        z = np.dot(X, wt)\n",
    "        pred = self.sigmoid(z)\n",
    "        delta = pred - y\n",
    "        dW = (np.dot(X.T, delta)) / y.size\n",
    "        return dW\n",
    "        \n",
    "    def fit(self, X, y):\n",
    "        self.loss = []\n",
    "        self.best_wt = None\n",
    "        self.low_loss = float('inf')\n",
    "        self.wt = np.random.uniform(0, 1, X.shape[1])\n",
    "        for i in range(self.iterations):\n",
    "            self.wt -= self.learning_rate * self.gradient_descent(X, y, self.wt)\n",
    "            loss = self.cost(X, y, self.wt)\n",
    "            self.loss.append(loss)\n",
    "            if loss < self.low_loss:\n",
    "                self.best_wt = np.copy(self.wt)\n",
    "                self.low_loss = loss\n",
    "            \n",
    "    def predict(self, X):\n",
    "        z = np.dot(X, self.wt)\n",
    "        y_hat = np.where(self.sigmoid(z) >= 0.5, 1, 0)\n",
    "        return y_hat"
   ]
  },
  {
   "cell_type": "code",
   "execution_count": 49,
   "id": "9758548e",
   "metadata": {},
   "outputs": [
    {
     "name": "stdout",
     "output_type": "stream",
     "text": [
      "Accuracy: 0.8507462686567164\n"
     ]
    }
   ],
   "source": [
    "# Training the model\n",
    "model = LogitRegression(learning_rate=1e-3, iterations=1000000)\n",
    "model.fit(X_train, y_train)\n",
    "y_pred = model.predict(X_test)\n",
    "accuracy = np.mean(y_pred == y_test)\n",
    "print('Accuracy:', accuracy)"
   ]
  },
  {
   "cell_type": "code",
   "execution_count": 50,
   "id": "e3020ea7",
   "metadata": {
    "scrolled": true
   },
   "outputs": [
    {
     "name": "stdout",
     "output_type": "stream",
     "text": [
      "Correct predictions made: 57\n",
      "Incorrect predictions made: 10\n",
      "Accuracy: 0.8507462686567164\n"
     ]
    }
   ],
   "source": [
    "# Calculate the correct and incorrect number of predictions made\n",
    "cor_pred = np.sum(y_pred == y_test)\n",
    "inc_pred = np.sum(y_pred != y_test)\n",
    "\n",
    "# Calculate the accuracy\n",
    "accuracy = cor_pred / len(y_test)\n",
    "\n",
    "print(\"Correct predictions made:\", cor_pred)\n",
    "print(\"Incorrect predictions made:\", inc_pred)\n",
    "print(\"Accuracy:\", accuracy)"
   ]
  },
  {
   "cell_type": "code",
   "execution_count": 51,
   "id": "a05532c9",
   "metadata": {},
   "outputs": [
    {
     "data": {
      "image/png": "[encoded data removed]",
      "text/plain": [
       "<Figure size 640x480 with 2 Axes>"
      ]
     },
     "metadata": {},
     "output_type": "display_data"
    }
   ],
   "source": [
    "# Plotting confusion matrix for insight only\n",
    "from sklearn.metrics import confusion_matrix\n",
    "import seaborn as sns\n",
    "\n",
    "cm = confusion_matrix(y_test, y_pred)\n",
    "sns.heatmap(cm, annot=True, cmap=\"Blues\")\n",
    "plt.title(\"Confusion Matrix\")\n",
    "plt.xlabel(\"Predicted Values\")\n",
    "plt.ylabel(\"True Values\")\n",
    "plt.show()"
   ]
  },
  {
   "cell_type": "code",
   "execution_count": 18,
   "id": "d61f9cad",
   "metadata": {},
   "outputs": [
    {
     "data": {
      "image/png": "[encoded data removed]",
      "text/plain": [
       "<Figure size 640x480 with 1 Axes>"
      ]
     },
     "metadata": {},
     "output_type": "display_data"
    }
   ],
   "source": [
    "plt.plot(model.loss)\n",
    "plt.xlabel('Iterations')\n",
    "plt.ylabel('Loss')\n",
    "plt.show()"
   ]
  }
 ],
 "metadata": {
  "kernelspec": {
   "display_name": "Python 3 (ipykernel)",
   "language": "python",
   "name": "python3"
  },
  "language_info": {
   "codemirror_mode": {
    "name": "ipython",
    "version": 3
   },
   "file_extension": ".py",
   "mimetype": "text/x-python",
   "name": "python",
   "nbconvert_exporter": "python",
   "pygments_lexer": "ipython3",
   "version": "3.9.13"
  }
 },
 "nbformat": 4,
 "nbformat_minor": 5
}
